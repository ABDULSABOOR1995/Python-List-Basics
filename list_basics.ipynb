{
 "cells": [
  {
   "cell_type": "code",
   "execution_count": 1,
   "metadata": {},
   "outputs": [],
   "source": [
    "programming_languages = [\"Python\",\"Java\",\"R\",\"Ruby and Rails\"] #1- declare a list"
   ]
  },
  {
   "cell_type": "code",
   "execution_count": 2,
   "metadata": {},
   "outputs": [],
   "source": [
    "programming_languages.append(\"C++\") # 1- Add items in the list((i) add item at the end of a list)"
   ]
  },
  {
   "cell_type": "code",
   "execution_count": 3,
   "metadata": {},
   "outputs": [
    {
     "data": {
      "text/plain": [
       "['Python', 'Java', 'R', 'Ruby and Rails', 'C++']"
      ]
     },
     "execution_count": 3,
     "metadata": {},
     "output_type": "execute_result"
    }
   ],
   "source": [
    "programming_languages"
   ]
  },
  {
   "cell_type": "code",
   "execution_count": 4,
   "metadata": {},
   "outputs": [],
   "source": [
    "programming_languages.insert(2,\"C#\") # 1- Add items in the list((ii) add item at particular place of a list)"
   ]
  },
  {
   "cell_type": "code",
   "execution_count": 5,
   "metadata": {},
   "outputs": [
    {
     "data": {
      "text/plain": [
       "['Python', 'Java', 'C#', 'R', 'Ruby and Rails', 'C++']"
      ]
     },
     "execution_count": 5,
     "metadata": {},
     "output_type": "execute_result"
    }
   ],
   "source": [
    "programming_languages"
   ]
  },
  {
   "cell_type": "code",
   "execution_count": 6,
   "metadata": {},
   "outputs": [
    {
     "data": {
      "text/plain": [
       "'C++'"
      ]
     },
     "execution_count": 6,
     "metadata": {},
     "output_type": "execute_result"
    }
   ],
   "source": [
    "programming_languages.pop() # 2- delete items from the list((i) delete item at the end of a list)\n",
    "                            #pop() value ko save kar k use karne k liye use hota h or aakhir se value delete karta h\n",
    "                            # pop se particular position wala element bhi delete kia ja sakta h par agar wo element kahin or use karna ho to\n"
   ]
  },
  {
   "cell_type": "code",
   "execution_count": 7,
   "metadata": {},
   "outputs": [
    {
     "data": {
      "text/plain": [
       "['Python', 'Java', 'C#', 'R', 'Ruby and Rails']"
      ]
     },
     "execution_count": 7,
     "metadata": {},
     "output_type": "execute_result"
    }
   ],
   "source": [
    "programming_languages"
   ]
  },
  {
   "cell_type": "code",
   "execution_count": 8,
   "metadata": {},
   "outputs": [
    {
     "data": {
      "text/plain": [
       "'R'"
      ]
     },
     "execution_count": 8,
     "metadata": {},
     "output_type": "execute_result"
    }
   ],
   "source": [
    "programming_languages.pop(3) #uper pop karne se or C++ or yahan R aarahi h is ham kisi bhi variable me saver kar k faida utha sakte hain"
   ]
  },
  {
   "cell_type": "code",
   "execution_count": 9,
   "metadata": {},
   "outputs": [
    {
     "data": {
      "text/plain": [
       "['Python', 'Java', 'C#', 'Ruby and Rails']"
      ]
     },
     "execution_count": 9,
     "metadata": {},
     "output_type": "execute_result"
    }
   ],
   "source": [
    "programming_languages"
   ]
  },
  {
   "cell_type": "code",
   "execution_count": 10,
   "metadata": {},
   "outputs": [],
   "source": [
    "del(programming_languages[2]) # 2- delete items from the list((ii) delete item from particular position of a list)\n"
   ]
  },
  {
   "cell_type": "code",
   "execution_count": 11,
   "metadata": {},
   "outputs": [
    {
     "data": {
      "text/plain": [
       "['Python', 'Java', 'Ruby and Rails']"
      ]
     },
     "execution_count": 11,
     "metadata": {},
     "output_type": "execute_result"
    }
   ],
   "source": [
    "programming_languages"
   ]
  },
  {
   "cell_type": "code",
   "execution_count": 12,
   "metadata": {},
   "outputs": [],
   "source": [
    "programming_languages.remove(\"Ruby and Rails\") # 2- delete items from the list((iii) delete item of particular value in a list)"
   ]
  },
  {
   "cell_type": "code",
   "execution_count": 13,
   "metadata": {},
   "outputs": [
    {
     "data": {
      "text/plain": [
       "['Python', 'Java']"
      ]
     },
     "execution_count": 13,
     "metadata": {},
     "output_type": "execute_result"
    }
   ],
   "source": [
    "programming_languages"
   ]
  },
  {
   "cell_type": "code",
   "execution_count": 14,
   "metadata": {},
   "outputs": [],
   "source": [
    "programming_languages[1] = 'C++' # 3- Update particular item in a  list"
   ]
  },
  {
   "cell_type": "code",
   "execution_count": 15,
   "metadata": {},
   "outputs": [
    {
     "data": {
      "text/plain": [
       "['Python', 'C++']"
      ]
     },
     "execution_count": 15,
     "metadata": {},
     "output_type": "execute_result"
    }
   ],
   "source": [
    "programming_languages"
   ]
  },
  {
   "cell_type": "code",
   "execution_count": 16,
   "metadata": {},
   "outputs": [
    {
     "data": {
      "text/plain": [
       "'C++'"
      ]
     },
     "execution_count": 16,
     "metadata": {},
     "output_type": "execute_result"
    }
   ],
   "source": [
    "programming_languages[1]  # 4- Get particular item in a  list((i) from start)"
   ]
  },
  {
   "cell_type": "code",
   "execution_count": 17,
   "metadata": {},
   "outputs": [
    {
     "data": {
      "text/plain": [
       "'C++'"
      ]
     },
     "execution_count": 17,
     "metadata": {},
     "output_type": "execute_result"
    }
   ],
   "source": [
    "programming_languages[-1]  # 4- Get particular item in a  list((ii) from end)"
   ]
  },
  {
   "cell_type": "code",
   "execution_count": 18,
   "metadata": {},
   "outputs": [],
   "source": [
    "programming_languages.append(\"Java\")\n",
    "programming_languages.append(\"R\")\n",
    "programming_languages.append(\"Ruby and Rails\")\n"
   ]
  },
  {
   "cell_type": "code",
   "execution_count": 19,
   "metadata": {},
   "outputs": [
    {
     "data": {
      "text/plain": [
       "['Python', 'C++', 'Java', 'R', 'Ruby and Rails']"
      ]
     },
     "execution_count": 19,
     "metadata": {},
     "output_type": "execute_result"
    }
   ],
   "source": [
    "programming_languages"
   ]
  },
  {
   "cell_type": "code",
   "execution_count": 20,
   "metadata": {},
   "outputs": [],
   "source": [
    "programming_languages.reverse() # 5- Reverse a list"
   ]
  },
  {
   "cell_type": "code",
   "execution_count": 21,
   "metadata": {},
   "outputs": [
    {
     "data": {
      "text/plain": [
       "['Ruby and Rails', 'R', 'Java', 'C++', 'Python']"
      ]
     },
     "execution_count": 21,
     "metadata": {},
     "output_type": "execute_result"
    }
   ],
   "source": [
    "programming_languages"
   ]
  },
  {
   "cell_type": "code",
   "execution_count": 22,
   "metadata": {},
   "outputs": [
    {
     "data": {
      "text/plain": [
       "5"
      ]
     },
     "execution_count": 22,
     "metadata": {},
     "output_type": "execute_result"
    }
   ],
   "source": [
    "len(programming_languages) # 6- finding no.of items in a list"
   ]
  },
  {
   "cell_type": "code",
   "execution_count": 23,
   "metadata": {},
   "outputs": [],
   "source": [
    "programming_languages.sort() # 7- Sorting the items present in a list((i) permenantly sort)\n",
    "                             "
   ]
  },
  {
   "cell_type": "code",
   "execution_count": 24,
   "metadata": {},
   "outputs": [
    {
     "data": {
      "text/plain": [
       "['C++', 'Java', 'Python', 'R', 'Ruby and Rails']"
      ]
     },
     "execution_count": 24,
     "metadata": {},
     "output_type": "execute_result"
    }
   ],
   "source": [
    "programming_languages"
   ]
  },
  {
   "cell_type": "code",
   "execution_count": 25,
   "metadata": {},
   "outputs": [],
   "source": [
    "programming_languages.sort(reverse = True) # 7- Sorting the items present in a list((i) permenantly sort in descending order)"
   ]
  },
  {
   "cell_type": "code",
   "execution_count": 26,
   "metadata": {},
   "outputs": [
    {
     "data": {
      "text/plain": [
       "['Ruby and Rails', 'R', 'Python', 'Java', 'C++']"
      ]
     },
     "execution_count": 26,
     "metadata": {},
     "output_type": "execute_result"
    }
   ],
   "source": [
    "programming_languages"
   ]
  },
  {
   "cell_type": "code",
   "execution_count": 27,
   "metadata": {},
   "outputs": [],
   "source": [
    "programming_languages = ['Ruby and Rails', 'R', 'Java', 'C++', 'Python']"
   ]
  },
  {
   "cell_type": "code",
   "execution_count": 28,
   "metadata": {},
   "outputs": [
    {
     "data": {
      "text/plain": [
       "['C++', 'Java', 'Python', 'R', 'Ruby and Rails']"
      ]
     },
     "execution_count": 28,
     "metadata": {},
     "output_type": "execute_result"
    }
   ],
   "source": [
    "sorted(programming_languages) # 7- Sorting the items present in a list((ii) temporarily sort)"
   ]
  },
  {
   "cell_type": "code",
   "execution_count": 29,
   "metadata": {},
   "outputs": [
    {
     "data": {
      "text/plain": [
       "['Ruby and Rails', 'R', 'Java', 'C++', 'Python']"
      ]
     },
     "execution_count": 29,
     "metadata": {},
     "output_type": "execute_result"
    }
   ],
   "source": [
    "programming_languages"
   ]
  },
  {
   "cell_type": "code",
   "execution_count": 30,
   "metadata": {},
   "outputs": [
    {
     "name": "stdout",
     "output_type": "stream",
     "text": [
      "Ruby and Rails\n",
      "R\n",
      "Java\n",
      "C++\n",
      "Python\n"
     ]
    }
   ],
   "source": [
    "for language in programming_languages: # 8- Accessing list items one by one through looping\n",
    "    print(language)"
   ]
  },
  {
   "cell_type": "code",
   "execution_count": 31,
   "metadata": {},
   "outputs": [
    {
     "data": {
      "text/plain": [
       "['R', 'Java', 'C++']"
      ]
     },
     "execution_count": 31,
     "metadata": {},
     "output_type": "execute_result"
    }
   ],
   "source": [
    "programming_languages[1:4] # 9- Slicing ((i) Access items 1-3)"
   ]
  },
  {
   "cell_type": "code",
   "execution_count": 32,
   "metadata": {},
   "outputs": [
    {
     "data": {
      "text/plain": [
       "['R', 'Java', 'C++', 'Python']"
      ]
     },
     "execution_count": 32,
     "metadata": {},
     "output_type": "execute_result"
    }
   ],
   "source": [
    "programming_languages[1:] # 9- Slicing ((ii) Access items 1-end)"
   ]
  },
  {
   "cell_type": "code",
   "execution_count": 33,
   "metadata": {},
   "outputs": [
    {
     "data": {
      "text/plain": [
       "['Ruby and Rails', 'R', 'Java', 'C++']"
      ]
     },
     "execution_count": 33,
     "metadata": {},
     "output_type": "execute_result"
    }
   ],
   "source": [
    "programming_languages[:4] # 9- Slicing ((iii) Access items start-3)"
   ]
  },
  {
   "cell_type": "code",
   "execution_count": 34,
   "metadata": {},
   "outputs": [
    {
     "data": {
      "text/plain": [
       "['Python']"
      ]
     },
     "execution_count": 34,
     "metadata": {},
     "output_type": "execute_result"
    }
   ],
   "source": [
    "programming_languages[-1:] # 9- Slicing ((iv) Access item at the end)"
   ]
  },
  {
   "cell_type": "code",
   "execution_count": 35,
   "metadata": {},
   "outputs": [
    {
     "data": {
      "text/plain": [
       "['Ruby and Rails']"
      ]
     },
     "execution_count": 35,
     "metadata": {},
     "output_type": "execute_result"
    }
   ],
   "source": [
    "programming_languages[:-4] # 9- Slicing ((v) start from end and Access 4th item)"
   ]
  },
  {
   "cell_type": "code",
   "execution_count": 36,
   "metadata": {},
   "outputs": [
    {
     "data": {
      "text/plain": [
       "['Ruby and Rails', 'R', 'Java', 'C++', 'Python']"
      ]
     },
     "execution_count": 36,
     "metadata": {},
     "output_type": "execute_result"
    }
   ],
   "source": [
    "programming_languages[:] # 9- Slicing ((vi) Access all items)"
   ]
  },
  {
   "cell_type": "code",
   "execution_count": 37,
   "metadata": {},
   "outputs": [
    {
     "data": {
      "text/plain": [
       "['Ruby and Rails', 'R', 'Java', 'C++', 'Python']"
      ]
     },
     "execution_count": 37,
     "metadata": {},
     "output_type": "execute_result"
    }
   ],
   "source": [
    "programming_languages"
   ]
  },
  {
   "cell_type": "code",
   "execution_count": 38,
   "metadata": {},
   "outputs": [],
   "source": [
    "new_programming_languages = programming_languages # 10- copying a list((i) copy whole list) "
   ]
  },
  {
   "cell_type": "code",
   "execution_count": 39,
   "metadata": {},
   "outputs": [
    {
     "data": {
      "text/plain": [
       "['Ruby and Rails', 'R', 'Java', 'C++', 'Python']"
      ]
     },
     "execution_count": 39,
     "metadata": {},
     "output_type": "execute_result"
    }
   ],
   "source": [
    "new_programming_languages"
   ]
  },
  {
   "cell_type": "code",
   "execution_count": 40,
   "metadata": {},
   "outputs": [
    {
     "data": {
      "text/plain": [
       "['Ruby and Rails', 'R', 'Java', 'C++', 'Python']"
      ]
     },
     "execution_count": 40,
     "metadata": {},
     "output_type": "execute_result"
    }
   ],
   "source": [
    "programming_languages"
   ]
  },
  {
   "cell_type": "code",
   "execution_count": 47,
   "metadata": {},
   "outputs": [],
   "source": [
    "# 10- copying a list((ii) copy list items one by one) \n",
    "new_programming_languages = [] \n",
    "i = 0\n",
    "for language in programming_languages:\n",
    "    new_programming_languages.append(programming_languages.pop(i))\n",
    "    i += 1\n",
    "    i\n",
    "    "
   ]
  },
  {
   "cell_type": "code",
   "execution_count": 48,
   "metadata": {},
   "outputs": [
    {
     "data": {
      "text/plain": [
       "[]"
      ]
     },
     "execution_count": 48,
     "metadata": {},
     "output_type": "execute_result"
    }
   ],
   "source": [
    "programming_languages"
   ]
  },
  {
   "cell_type": "code",
   "execution_count": 49,
   "metadata": {},
   "outputs": [
    {
     "data": {
      "text/plain": [
       "['C++']"
      ]
     },
     "execution_count": 49,
     "metadata": {},
     "output_type": "execute_result"
    }
   ],
   "source": [
    "new_programming_languages"
   ]
  },
  {
   "cell_type": "code",
   "execution_count": 50,
   "metadata": {},
   "outputs": [],
   "source": [
    "programming_languages = ['Ruby and Rails', 'R', 'Java', 'C++', 'Python']"
   ]
  },
  {
   "cell_type": "code",
   "execution_count": 51,
   "metadata": {},
   "outputs": [
    {
     "data": {
      "text/plain": [
       "['Ruby and Rails', 'R', 'Java', 'C++', 'Python']"
      ]
     },
     "execution_count": 51,
     "metadata": {},
     "output_type": "execute_result"
    }
   ],
   "source": [
    "programming_languages"
   ]
  },
  {
   "cell_type": "code",
   "execution_count": 61,
   "metadata": {},
   "outputs": [
    {
     "name": "stdout",
     "output_type": "stream",
     "text": [
      "exist\n"
     ]
    }
   ],
   "source": [
    "'''ye sirf us waqt use hota h jab list k andar ki\n",
    "   value check karni ho or us k baare me koi statement\n",
    "   print karani ho ya phir koi operation us particular\n",
    "   item par perform karana ho.\n",
    "   yani hamen index se koi lena dena na ho(matlab wo item\n",
    "   list me kitni dafa aaya or kis kis position par aaya is\n",
    "   se hamara koi taalluq na ho)'''\n",
    "if 'R' in programming_languages: # 11- if statement with list((i)checking whether a value in list.)\n",
    "    print('exist')"
   ]
  },
  {
   "cell_type": "code",
   "execution_count": 62,
   "metadata": {},
   "outputs": [
    {
     "name": "stdout",
     "output_type": "stream",
     "text": [
      "exist\n"
     ]
    }
   ],
   "source": [
    "'''ye sirf us waqt use hota h jab list k andar ki\n",
    "   value check karni ho or us k baare me koi statement\n",
    "   print karani ho ya phir koi operation us particular\n",
    "   item par perform karana ho.\n",
    "   yani hamen index se koi lena dena na ho(matlab wo item\n",
    "   list me kitni dafa aaya or kis kis position par aaya is\n",
    "   se hamara koi taalluq na ho)'''\n",
    "if 'R' not in programming_languages: # 11- if statement with list((ii)checking whether a value not in a list.)\n",
    "    print('not exist')     \n",
    "else:\n",
    "    print('exist')"
   ]
  },
  {
   "cell_type": "code",
   "execution_count": 63,
   "metadata": {},
   "outputs": [
    {
     "name": "stdout",
     "output_type": "stream",
     "text": [
      "List is empty\n"
     ]
    }
   ],
   "source": [
    "'''for checking list is empty or not(agar list me 1 bhi item hoga to yes dega warna no dega)'''\n",
    "programming_languages = []  # 11- if statement with list((iii)checking whether list is empty or not.)           \n",
    "if programming_languages:\n",
    "    print('There exist item or items')\n",
    "else:\n",
    "    print('List is empty')"
   ]
  },
  {
   "cell_type": "code",
   "execution_count": 64,
   "metadata": {},
   "outputs": [
    {
     "name": "stdout",
     "output_type": "stream",
     "text": [
      "List is empty\n"
     ]
    }
   ],
   "source": [
    "'''for checking list is empty or not(agar list me 1 bhi item hoga to yes dega warna no dega)'''\n",
    "programming_languages = [] # 11- if statement with list((iii)checking whether list is empty or not.)\n",
    "if not programming_languages:\n",
    "    print('List is empty')\n",
    "else:\n",
    "    print('There exist item or items')"
   ]
  },
  {
   "cell_type": "code",
   "execution_count": 78,
   "metadata": {},
   "outputs": [],
   "source": [
    "'''using for loop for applying pop opertation on all items in a list'''\n",
    "programming_languages = ['Ruby and Rails', 'R', 'Java', 'C++', 'Python'] # 12- using for loop in a list and pop item one by one from particular list to another list\n",
    "new_programming_languages = []\n",
    "for i in range(0,len(programming_languages)):\n",
    "    new_programming_languages.append(programming_languages.pop())"
   ]
  },
  {
   "cell_type": "code",
   "execution_count": 79,
   "metadata": {},
   "outputs": [
    {
     "data": {
      "text/plain": [
       "[]"
      ]
     },
     "execution_count": 79,
     "metadata": {},
     "output_type": "execute_result"
    }
   ],
   "source": [
    "programming_languages"
   ]
  },
  {
   "cell_type": "code",
   "execution_count": 80,
   "metadata": {},
   "outputs": [
    {
     "data": {
      "text/plain": [
       "['Python', 'C++', 'Java', 'R', 'Ruby and Rails']"
      ]
     },
     "execution_count": 80,
     "metadata": {},
     "output_type": "execute_result"
    }
   ],
   "source": [
    "new_programming_languages"
   ]
  },
  {
   "cell_type": "code",
   "execution_count": 81,
   "metadata": {},
   "outputs": [],
   "source": [
    "'''using while loop for applying pop opertation on all items in a list'''\n",
    "while new_programming_languages: # 13- using while loop in a list and pop item by item from particular list to another list\n",
    "    programming_languages.append(new_programming_languages.pop())"
   ]
  },
  {
   "cell_type": "code",
   "execution_count": 82,
   "metadata": {},
   "outputs": [
    {
     "data": {
      "text/plain": [
       "[]"
      ]
     },
     "execution_count": 82,
     "metadata": {},
     "output_type": "execute_result"
    }
   ],
   "source": [
    "new_programming_languages"
   ]
  },
  {
   "cell_type": "code",
   "execution_count": 83,
   "metadata": {},
   "outputs": [
    {
     "data": {
      "text/plain": [
       "['Ruby and Rails', 'R', 'Java', 'C++', 'Python']"
      ]
     },
     "execution_count": 83,
     "metadata": {},
     "output_type": "execute_result"
    }
   ],
   "source": [
    "programming_languages"
   ]
  },
  {
   "cell_type": "code",
   "execution_count": 88,
   "metadata": {},
   "outputs": [],
   "source": [
    "'''Removing all instances of particular value from a list\n",
    "   (The logic below only remove 1st instance of particular value)'''\n",
    "programming_languages = ['Ruby and Rails', 'R', 'Java', 'C++', 'Python','C++','R','C++'] \n",
    "if 'C++' in programming_languages:\n",
    "    programming_languages.remove('C++')"
   ]
  },
  {
   "cell_type": "code",
   "execution_count": 89,
   "metadata": {},
   "outputs": [
    {
     "data": {
      "text/plain": [
       "['Ruby and Rails', 'R', 'Java', 'Python', 'C++', 'R', 'C++']"
      ]
     },
     "execution_count": 89,
     "metadata": {},
     "output_type": "execute_result"
    }
   ],
   "source": [
    "programming_languages"
   ]
  },
  {
   "cell_type": "code",
   "execution_count": 2,
   "metadata": {},
   "outputs": [
    {
     "name": "stdout",
     "output_type": "stream",
     "text": [
      "{'Java', 'Python', 'R', 'Ruby and Rails', 'C++'}\n"
     ]
    }
   ],
   "source": [
    "'''if a value repeated in a list vand we want only it only once'''\n",
    "programming_languages = ['Ruby and Rails', 'R', 'Java', 'Python', 'C++', 'R', 'C++']\n",
    "print(set(programming_languages)) "
   ]
  },
  {
   "cell_type": "code",
   "execution_count": 3,
   "metadata": {},
   "outputs": [
    {
     "name": "stdout",
     "output_type": "stream",
     "text": [
      "{'Java', 'Python', 'R', 'Ruby and Rails', 'C++'}\n"
     ]
    }
   ],
   "source": [
    "'''if a value repeated in a list vand we want only it only once'''\n",
    "programming_languages = ['Ruby and Rails', 'R', 'Java', 'Python', 'C++', 'R', 'C++']\n",
    "set_programming_languages = set(programming_languages)\n",
    "print(set_programming_languages)"
   ]
  },
  {
   "cell_type": "code",
   "execution_count": 90,
   "metadata": {},
   "outputs": [],
   "source": [
    "'''Removing all instances of particular value from a list\n",
    "   (The logic below will remove all instances of particular value)'''\n",
    "programming_languages = ['Ruby and Rails', 'R', 'Java', 'C++', 'Python','C++','R','C++'] \n",
    "while 'C++' in programming_languages:\n",
    "    programming_languages.remove('C++')"
   ]
  },
  {
   "cell_type": "code",
   "execution_count": null,
   "metadata": {},
   "outputs": [],
   "source": []
  },
  {
   "cell_type": "code",
   "execution_count": 91,
   "metadata": {},
   "outputs": [
    {
     "data": {
      "text/plain": [
       "['Ruby and Rails', 'R', 'Java', 'Python', 'R']"
      ]
     },
     "execution_count": 91,
     "metadata": {},
     "output_type": "execute_result"
    }
   ],
   "source": [
    "programming_languages"
   ]
  },
  {
   "cell_type": "code",
   "execution_count": 92,
   "metadata": {},
   "outputs": [
    {
     "data": {
      "text/plain": [
       "['Abdul Saboor',\n",
       " 'Abdul Samad',\n",
       " 'Abdul Ali',\n",
       " 'Abdul Usama',\n",
       " 'Abdul Bilal',\n",
       " 'Muhammad Saboor',\n",
       " 'Muhammad Samad',\n",
       " 'Muhammad Ali',\n",
       " 'Muhammad Usama',\n",
       " 'Muhammad Bilal',\n",
       " 'Syed Saboor',\n",
       " 'Syed Samad',\n",
       " 'Syed Ali',\n",
       " 'Syed Usama',\n",
       " 'Syed Bilal',\n",
       " 'Mirza Saboor',\n",
       " 'Mirza Samad',\n",
       " 'Mirza Ali',\n",
       " 'Mirza Usama',\n",
       " 'Mirza Bilal']"
      ]
     },
     "execution_count": 92,
     "metadata": {},
     "output_type": "execute_result"
    }
   ],
   "source": [
    "first_names = ['Abdul','Muhammad','Syed','Mirza'] # 13- use nested for loop with list\n",
    "last_names = ['Saboor','Samad','Ali','Usama','Bilal']\n",
    "name = []\n",
    "for f_name in first_names:\n",
    "    for l_name in last_names:\n",
    "        name.append(f_name+\" \"+l_name)\n",
    "name"
   ]
  },
  {
   "cell_type": "code",
   "execution_count": null,
   "metadata": {},
   "outputs": [],
   "source": []
  }
 ],
 "metadata": {
  "kernelspec": {
   "display_name": "Python 3",
   "language": "python",
   "name": "python3"
  },
  "language_info": {
   "codemirror_mode": {
    "name": "ipython",
    "version": 3
   },
   "file_extension": ".py",
   "mimetype": "text/x-python",
   "name": "python",
   "nbconvert_exporter": "python",
   "pygments_lexer": "ipython3",
   "version": "3.6.5"
  }
 },
 "nbformat": 4,
 "nbformat_minor": 2
}
